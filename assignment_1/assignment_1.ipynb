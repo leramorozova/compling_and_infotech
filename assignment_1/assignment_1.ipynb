{
 "cells": [
  {
   "cell_type": "markdown",
   "metadata": {},
   "source": [
    "# Assignment 1\n",
    "\n",
    "Using text http://www.gutenberg.org/files/2600/2600-0.txt\n",
    "1. Make text lowercase and remove all punctuation except spaces and dots.\n",
    "2. Tokenize text by BPE with vocab_size = 100\n",
    "3. Train 3-gram language model with laplace smoothing $\\delta=1$\n",
    "4. Using beam search with k=10 generate sequences of length=10 conditioned on provided inputs. Treat dots as terminal tokens.\n",
    "5. Calculate perplexity of the language model for the first sentence."
   ]
  },
  {
   "cell_type": "code",
   "execution_count": 439,
   "metadata": {},
   "outputs": [
    {
     "data": {
      "text/plain": [
       "3227579"
      ]
     },
     "execution_count": 439,
     "metadata": {},
     "output_type": "execute_result"
    }
   ],
   "source": [
    "text = open('peace.txt', 'r', encoding=\"UTF-8\").read()[2:]\n",
    "len(text)"
   ]
  },
  {
   "cell_type": "code",
   "execution_count": 440,
   "metadata": {},
   "outputs": [],
   "source": [
    "import string\n",
    "import re\n",
    "\n",
    "def preprocess_text(text):\n",
    "    text = text.lower()\n",
    "    punct = \"“”‘’—\" + string.punctuation.replace('.', '')\n",
    "    for char in punct:\n",
    "        text = text.replace(char, \" \")\n",
    "    return re.sub('\\s+', ' ', text)\n",
    "\n",
    "text = preprocess_text(text)\n",
    "assert len(text) == 3141169"
   ]
  },
  {
   "cell_type": "code",
   "execution_count": 441,
   "metadata": {},
   "outputs": [],
   "source": [
    "text = text.split('.')\n",
    "text = [x.strip() for x in text]"
   ]
  },
  {
   "cell_type": "code",
   "execution_count": 442,
   "metadata": {},
   "outputs": [],
   "source": [
    "from progressbar import Percentage, Bar, ETA, FileTransferSpeed\n",
    "from IPython.display import clear_output\n",
    "\n",
    "widgets = [Percentage(), ' ', Bar(marker='0',left='[',right=']'), ' ', ETA(), ' ', FileTransferSpeed()]"
   ]
  },
  {
   "cell_type": "code",
   "execution_count": 443,
   "metadata": {
    "scrolled": true
   },
   "outputs": [
    {
     "name": "stderr",
     "output_type": "stream",
     "text": [
      "transforming: 100% [00000000000000000000000000000000] Time: 0:01:16 404.37  B/s\n"
     ]
    }
   ],
   "source": [
    "from collections import Counter\n",
    "import nltk\n",
    "from sklearn.base import TransformerMixin\n",
    "from copy import deepcopy\n",
    "\n",
    "\n",
    "class BPE(TransformerMixin):\n",
    "    def __init__(self, vocab_size=100):\n",
    "        super(BPE, self).__init__()\n",
    "        self.vocab_size = vocab_size\n",
    "        # index to token\n",
    "        self.itos = []\n",
    "        # token to index\n",
    "        self.stoi = {}\n",
    "        \n",
    "    @staticmethod\n",
    "    def update_encoding(text, new_token, new_id):\n",
    "        new_text, i = [], 0\n",
    "        \n",
    "        while i < len(text):\n",
    "            if i == len(text) - 1:\n",
    "                new_text.append(text[i])\n",
    "            elif (text[i], text[i + 1]) == new_token:\n",
    "                new_text.append(new_id)\n",
    "                i += 1\n",
    "            else:\n",
    "                new_text.append(text[i])\n",
    "            i += 1\n",
    "        return new_text\n",
    "        \n",
    "    def fit(self, text):\n",
    "        \"\"\"\n",
    "        fit itos and stoi\n",
    "        text: list of strings \n",
    "        \"\"\"\n",
    "        \n",
    "        # TODO\n",
    "        # tokenize text by symbols and fill in self.itos and self.stoi\n",
    "        text_ = deepcopy(\" \".join(text))\n",
    "        self.itos = list(set(list(text_)))\n",
    "        self.stoi = {token: i for i, token in enumerate(self.itos)}\n",
    "        text_ = [self.stoi[char] for char in text_]\n",
    "        \n",
    "        pbar = ProgressBar(widgets=[\"fitting: \"] + widgets, maxval=self.vocab_size)\n",
    "        pbar.start()\n",
    "        \n",
    "        while len(self.itos) < self.vocab_size:\n",
    "            new_token = Counter([(text_[i], text_[i+1]) for i in range(len(text_) - 1)]).most_common(1)[0]\n",
    "            new_id = len(self.itos)\n",
    "            \n",
    "            self.itos.append(new_token)\n",
    "            self.stoi[new_token] = new_id\n",
    "            \n",
    "            # find occurences of the new_token in the text and replace them with new_id\n",
    "            text_ = self.update_encoding(text_, new_token, new_id)\n",
    "            pbar.update(len(self.itos))\n",
    "        pbar.finish()\n",
    "        return self\n",
    "    \n",
    "    def transform(self, text):\n",
    "        \"\"\"\n",
    "        convert text to a sequence of token ids\n",
    "        text: list of strings\n",
    "        \"\"\"\n",
    "        clear_output()\n",
    "        text_ =  deepcopy(text)\n",
    "        pbar = ProgressBar(widgets=[\"transforming: \"] + widgets, maxval=len(text))\n",
    "        pbar.start()\n",
    "        for i, sent in enumerate(text_):\n",
    "            token_sent = [self.stoi[char] for char in sent]\n",
    "            for token_id, token in enumerate(self.itos):\n",
    "                text_[i] = self.update_encoding(token_sent, token, token_id)\n",
    "            pbar.update(i)\n",
    "        pbar.finish()\n",
    "        return text_\n",
    "    \n",
    "    def decode_token(self, tok):\n",
    "        \"\"\"\n",
    "        tok: int or tuple\n",
    "        \"\"\"\n",
    "        result = \"\"\n",
    "        \n",
    "        def recursive_search(token):\n",
    "            if type(token) == str:\n",
    "                nonlocal result\n",
    "                result += token\n",
    "            elif type(token) == int:\n",
    "                recursive_search(self.itos[token])\n",
    "            else:\n",
    "                for el in token:\n",
    "                    recursive_search(token)\n",
    "                    \n",
    "        recursive_search(tok)\n",
    "        return result\n",
    "            \n",
    "    def decode(self, text):\n",
    "        \"\"\"\n",
    "        convert token ids into text\n",
    "        \"\"\"\n",
    "        return ''.join(map(self.decode_token, text))\n",
    "    \n",
    "vocab_size = 100\n",
    "bpe = BPE(vocab_size)\n",
    "tokenized_text = bpe.fit_transform(text)"
   ]
  },
  {
   "cell_type": "code",
   "execution_count": 444,
   "metadata": {},
   "outputs": [],
   "source": [
    "assert bpe.decode(tokenized_text[0]) == text[0]"
   ]
  },
  {
   "cell_type": "code",
   "execution_count": 445,
   "metadata": {},
   "outputs": [],
   "source": [
    "import numpy as np\n",
    "        \n",
    "    \n",
    "start_token = vocab_size\n",
    "end_token = vocab_size + 1\n",
    "        \n",
    "    \n",
    "class LM:\n",
    "    def __init__(self, vocab_size, delta=1):\n",
    "        self.delta = delta\n",
    "        self.vocab_size = vocab_size + 2\n",
    "        self.proba = {}\n",
    "        \n",
    "    def smoothen_count(self, count, tau):\n",
    "        return (count + self.delta) ** (1/tau)\n",
    "        \n",
    "    def infer(self, a, b, tau=1):\n",
    "        \"\"\"\n",
    "        return vector of probabilities of size self.vocab for 3-grams which start with (a,b) tokens\n",
    "        a: first token id\n",
    "        b: second token id\n",
    "        tau: temperature\n",
    "        \"\"\"\n",
    "        result = []\n",
    "        for token in range(self.vocab_size):\n",
    "            result.append(self.get_proba(a, b, token, tau))\n",
    "        return np.array(result)\n",
    "        \n",
    "    def get_proba(self, a, b, c, tau=1):\n",
    "        \"\"\"\n",
    "        get probability of 3-gram (a,b,c)\n",
    "        a: first token id\n",
    "        b: second token id\n",
    "        c: third token id\n",
    "        tau: temperature\n",
    "        \"\"\"\n",
    "        all_tri_proba = []\n",
    "        for token in range(self.vocab_size):\n",
    "            all_tri_proba.append(self.smoothen_count(self.proba[(a, b, token)], tau))\n",
    "        return self.smoothen_count(self.proba[(a, b, c)], tau) / sum(all_tri_proba)\n",
    "    \n",
    "    def fit(self, text):\n",
    "        \"\"\"\n",
    "        train language model on text\n",
    "        text: list of lists\n",
    "        \"\"\"\n",
    "        \n",
    "        trigrams = []\n",
    "        for sent in text:\n",
    "            pre_sent = [start_token] + sent + [end_token]\n",
    "            for i in range(len(pre_sent) - 2):\n",
    "                trigrams.append((pre_sent[i], pre_sent[i + 1], pre_sent[i + 2]))\n",
    "        self.proba = Counter(trigrams)\n",
    "        \n",
    "        return self\n",
    "    \n",
    "lm = LM(vocab_size, 1).fit(tokenized_text)"
   ]
  },
  {
   "cell_type": "code",
   "execution_count": 483,
   "metadata": {},
   "outputs": [],
   "source": [
    "def get_top_k_probs(probs, k):\n",
    "    out = []\n",
    "    sorted_probs = sorted(probs, reverse=True)\n",
    "    for i in range(k):\n",
    "        out += np.argwhere(probs == sorted_probs[i]).flatten().tolist()\n",
    "    return out[:k]      "
   ]
  },
  {
   "cell_type": "code",
   "execution_count": 484,
   "metadata": {},
   "outputs": [],
   "source": [
    "def beam_search(input_seq, lm, max_len=10, k=5, tau=1):\n",
    "    \"\"\"\n",
    "    generate sequence from language model *lm* conditioned on input_seq\n",
    "    input_seq: sequence of token ids for conditioning\n",
    "    lm: language model\n",
    "    max_len: max generated sequence length\n",
    "    k: size of beam\n",
    "    tau: temperature\n",
    "    \"\"\"\n",
    "    probs = np.log(lm.infer(input_seq[-2], input_seq[-1], tau))\n",
    "    best_probs = get_top_k_probs(probs, k)\n",
    "    beam = [(input_seq + [tok], probs[tok]) for tok in best_probs]\n",
    "    \n",
    "    for i in range(max_len):\n",
    "        candidates = []\n",
    "        candidates_proba = []\n",
    "        for snt, snt_proba in beam:\n",
    "            if snt == end_token:\n",
    "                continue\n",
    "            else:    \n",
    "                proba = lm.infer(snt[-2], snt[-1], tau)\n",
    "                best_k = get_top_k_probs(proba, k)\n",
    "                candidates += [snt + [token] for token in best_k]\n",
    "                candidates_proba += [snt_proba + np.log(proba)[snt] for snt in best_k]\n",
    "\n",
    "        idxs = get_top_k_probs(np.array(candidates_proba), k)        \n",
    "        beam = [(candidates[k], candidates_proba[k]) for k in idxs]\n",
    "    return beam\n",
    "    "
   ]
  },
  {
   "cell_type": "code",
   "execution_count": 485,
   "metadata": {},
   "outputs": [
    {
     "name": "stderr",
     "output_type": "stream",
     "text": [
      "transforming: 100% [00000000000000000000000000000000] Time: 0:00:00 479.90  B/s\n"
     ]
    },
    {
     "name": "stdout",
     "output_type": "stream",
     "text": [
      "sent: horse and the and; log proba -1.004834169269579\n",
      "sent: horse and the the; log proba -2.151178682936257\n",
      "sent: horse the and the; log proba -2.151178682936258\n",
      "sent: horse and the sai; log proba -3.3330720726256624\n",
      "sent: horse said the an; log proba -3.5864795087903008\n",
      "sent: horse the the and; log proba -3.776752547777372\n",
      "sent: horse and the she; log proba -4.022227590881958\n",
      "sent: horse she and the; log proba -4.022227590881958\n",
      "sent: horse and the she; log proba -4.022227590881958\n",
      "sent: horse she and the; log proba -4.022227590881958\n"
     ]
    }
   ],
   "source": [
    "input1 = 'horse '\n",
    "input1 = bpe.transform([input1])[0]\n",
    "result = beam_search(input1, lm, max_len=10, k=10, tau=0.1)\n",
    "for pair in result:\n",
    "    print(f\"sent: {bpe.decode(pair[0])}; log proba {pair[1]}\")    "
   ]
  },
  {
   "cell_type": "code",
   "execution_count": 486,
   "metadata": {},
   "outputs": [
    {
     "name": "stderr",
     "output_type": "stream",
     "text": [
      "transforming: 100% [00000000000000000000000000000000] Time: 0:00:00 358.46  B/s\n"
     ]
    },
    {
     "name": "stdout",
     "output_type": "stream",
     "text": [
      "sent: her the and th; log proba -0.8758635374400061\n",
      "sent: her and the an; log proba -1.7327274685663325\n",
      "sent: her the the an; log proba -2.5014367096546333\n",
      "sent: her and the th; log proba -2.879072674859498\n",
      "sent: her the said t; log proba -3.4574831741447314\n",
      "sent: her the the th; log proba -3.6477819159477987\n",
      "sent: her the so the; log proba -3.9096886346987563\n",
      "sent: her and the sa; log proba -4.060937542958939\n",
      "sent: her and the so; log proba -4.278740780453431\n",
      "sent: her the she an; log proba -4.372485617600334\n"
     ]
    }
   ],
   "source": [
    "input1 = 'her'\n",
    "input1 = bpe.transform([input1])[0]\n",
    "result = beam_search(input1, lm, max_len=10, k=10, tau=0.1)\n",
    "for pair in result:\n",
    "    print(f\"sent: {bpe.decode(pair[0])}; log proba {pair[1]}\")"
   ]
  },
  {
   "cell_type": "code",
   "execution_count": 487,
   "metadata": {},
   "outputs": [
    {
     "name": "stderr",
     "output_type": "stream",
     "text": [
      "transforming: 100% [00000000000000000000000000000000] Time: 0:00:00   1.14 kB/s\n"
     ]
    },
    {
     "name": "stdout",
     "output_type": "stream",
     "text": [
      "sent: what of the the; log proba -9.64722914830439\n",
      "sent: what the and th; log proba -9.702569245364419\n",
      "sent: what of the and; log proba -10.078457690711874\n",
      "sent: what the the th; log proba -10.097594847851182\n",
      "sent: what and the th; log proba -10.26657083221423\n",
      "sent: what the the an; log proba -10.454168661595848\n",
      "sent: what the and an; log proba -10.603040803225321\n",
      "sent: what and the an; log proba -10.623144645958895\n",
      "sent: what the and to; log proba -10.756569487782928\n",
      "sent: what the the to; log proba -11.15159509026969\n"
     ]
    }
   ],
   "source": [
    "input1 = 'what'\n",
    "input1 = bpe.transform([input1])[0]\n",
    "result = beam_search(input1, lm, max_len=10, k=10, tau=1)\n",
    "for pair in result:\n",
    "    print(f\"sent: {bpe.decode(pair[0])}; log proba {pair[1]}\")"
   ]
  },
  {
   "cell_type": "code",
   "execution_count": 488,
   "metadata": {},
   "outputs": [
    {
     "name": "stderr",
     "output_type": "stream",
     "text": [
      "transforming: 100% [00000000000000000000000000000000] Time: 0:00:00 260.14  B/s\n"
     ]
    },
    {
     "name": "stdout",
     "output_type": "stream",
     "text": [
      "sent: gun the and the; log proba -0.5170415091234943\n",
      "sent: gun the the and; log proba -2.1426153739646088\n",
      "sent: gun the said th; log proba -3.098687541270703\n",
      "sent: gun the the the; log proba -3.288959887631287\n",
      "sent: gun the so the ; log proba -3.550867513329118\n",
      "sent: gun the she and; log proba -4.013664281910308\n",
      "sent: gun the saing t; log proba -4.347417987372495\n",
      "sent: gun the the sai; log proba -4.470853277320692\n",
      "sent: gun the was and; log proba -4.642095694783078\n",
      "sent: gun the the so ; log proba -5.161876199009303\n"
     ]
    }
   ],
   "source": [
    "input1 = 'gun '\n",
    "input1 = bpe.transform([input1])[0]\n",
    "result = beam_search(input1, lm, max_len=10, k=10, tau=0.1)\n",
    "for pair in result:\n",
    "    print(f\"sent: {bpe.decode(pair[0])}; log proba {pair[1]}\")"
   ]
  },
  {
   "cell_type": "code",
   "execution_count": 503,
   "metadata": {},
   "outputs": [
    {
     "data": {
      "text/plain": [
       "8.47809488428617"
      ]
     },
     "execution_count": 503,
     "metadata": {},
     "output_type": "execute_result"
    }
   ],
   "source": [
    "def perplexity(snt, lm):\n",
    "    \"\"\"\n",
    "    snt: sequence of token ids\n",
    "    lm: language model\n",
    "    \"\"\"\n",
    "    perplexity = 1.0\n",
    "    \n",
    "    snt = [start_token] + snt + [end_token]\n",
    "\n",
    "    for char in range(len(snt) - 2):\n",
    "        perplexity *= (1 / lm.infer(snt[char], snt[char + 1])[snt[char + 2]])\n",
    "    result = pow(perplexity, 1 / float(len(snt)))\n",
    "    return result\n",
    "\n",
    "perplexity(tokenized_text[0], lm)"
   ]
  },
  {
   "cell_type": "code",
   "execution_count": null,
   "metadata": {},
   "outputs": [],
   "source": []
  }
 ],
 "metadata": {
  "kernelspec": {
   "display_name": "Python 3",
   "language": "python",
   "name": "python3"
  },
  "language_info": {
   "codemirror_mode": {
    "name": "ipython",
    "version": 3
   },
   "file_extension": ".py",
   "mimetype": "text/x-python",
   "name": "python",
   "nbconvert_exporter": "python",
   "pygments_lexer": "ipython3",
   "version": "3.6.8"
  }
 },
 "nbformat": 4,
 "nbformat_minor": 2
}
