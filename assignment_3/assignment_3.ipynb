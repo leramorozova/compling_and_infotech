{
 "cells": [
  {
   "cell_type": "markdown",
   "metadata": {},
   "source": [
    "# Assignment 3\n",
    "\n",
    "1. Implement Logistic Regression with Stochastic Gradient Decent using numpy\n",
    "1. Implement Logistic Regression with early stopping using pytorch\n",
    "\n",
    "Additional readings:\n",
    "1. https://www.pythonlikeyoumeanit.com/Module3_IntroducingNumpy/VectorizedOperations.html\n",
    "1. https://pytorch.org/tutorials/beginner/deep_learning_60min_blitz.html"
   ]
  },
  {
   "cell_type": "code",
   "execution_count": 1,
   "metadata": {},
   "outputs": [],
   "source": [
    "import numpy as np\n",
    "import matplotlib.pyplot as plt\n",
    "from sklearn.base import ClassifierMixin\n",
    "from sklearn.datasets import fetch_20newsgroups\n",
    "from sklearn import metrics\n",
    "import matplotlib.pyplot as plt\n",
    "from sklearn.feature_extraction.text import TfidfVectorizer\n",
    "from ipywidgets import IntProgress\n",
    "\n",
    "# retrieve dataset\n",
    "data = fetch_20newsgroups()\n",
    "\n",
    "\n",
    "X_train = data['data']\n",
    "y_train = data['target']\n",
    "\n",
    "tfidf = TfidfVectorizer(max_df=0.5, min_df=10)\n",
    "X_train = tfidf.fit_transform(X_train)\n",
    "\n",
    "test_data = fetch_20newsgroups(subset='test')\n",
    "X_test = tfidf.transform(test_data['data'])\n",
    "y_test = test_data['target']"
   ]
  },
  {
   "cell_type": "markdown",
   "metadata": {},
   "source": [
    "## 1 Binary Logistic Regression\n",
    "$\\{(x_i, y_i)\\}_{i=1}^N$, $y \\in \\{0,1\\}$\n",
    "$$ z = Xw + b $$\n",
    "\n",
    "$$p(y=1 | x) = \\sigma(z) = \\frac 1 {1 + e^{-z}}$$\n",
    "\n",
    "$$ L_{batch} = - \\frac 1 {|batch|} \\sum_{i \\in batch}^N [ y_i \\log \\sigma(z_i) + (1 - y_i) \\log (1 - \\sigma(z_i)) ] + \\frac \\lambda 2 w^T w$$\n",
    "\n",
    "Stochastic Gradient Decent for logreg:\n",
    "1. init w ~ random N(0,1), b = 0\n",
    "1. for epoch = 1..n_epochs:\n",
    "    * shuffle dataset\n",
    "    * for every batch:\n",
    "        * $w^{(t)} \\leftarrow w^{(t-1)} - \\alpha \\nabla_{w} L_{batch}(w^{(t-1)},b^{(t-1)})$\n",
    "        * $b^{(t)} \\leftarrow b^{(t-1)} - \\alpha \\nabla_{b} L_{batch}(w^{(t-1)},b^{(t-1)})$\n",
    "        \n",
    "$w$ - weights  \n",
    "$b$ - biases  \n",
    "$\\alpha$ - learning rate\n",
    "\n",
    "Hint:\n",
    "$$\\nabla_w L = \\frac {\\partial L} {\\partial \\sigma} \\frac {\\partial \\sigma} {\\partial z} \\frac {\\partial z} {\\partial w} + \\frac {\\partial (\\frac \\lambda 2 w^T w)} {\\partial w} $$\n",
    "$$\\nabla_b L = \\frac {\\partial L} {\\partial \\sigma} \\frac {\\partial \\sigma} {\\partial z} \\frac {\\partial z} {\\partial b} $$"
   ]
  },
  {
   "cell_type": "code",
   "execution_count": 2,
   "metadata": {},
   "outputs": [
    {
     "data": {
      "text/plain": [
       "((1064,), (708,))"
      ]
     },
     "execution_count": 2,
     "metadata": {},
     "output_type": "execute_result"
    }
   ],
   "source": [
    "# make dataset for binary classification\n",
    "\n",
    "X_train_bin = X_train[y_train < 2]\n",
    "y_train_bin = y_train[y_train < 2]\n",
    "\n",
    "X_test_bin = X_test[y_test < 2]\n",
    "y_test_bin = y_test[y_test < 2]\n",
    "\n",
    "y_train_bin.shape, y_test_bin.shape"
   ]
  },
  {
   "cell_type": "code",
   "execution_count": 3,
   "metadata": {
    "scrolled": true
   },
   "outputs": [
    {
     "name": "stdout",
     "output_type": "stream",
     "text": [
      "auc 0.9963575118259986\n"
     ]
    },
    {
     "data": {
      "image/png": "[encoded data removed]",
      "text/plain": [
       "<Figure size 432x288 with 1 Axes>"
      ]
     },
     "metadata": {
      "needs_background": "light"
     },
     "output_type": "display_data"
    }
   ],
   "source": [
    "class LogRegNumpy(ClassifierMixin):\n",
    "    def __init__(self, llambda=1, lr=0.1, batch_size=32, n_epochs=100):\n",
    "        \"\"\"\n",
    "        llambda: regularization strength\n",
    "        lr: learning rate\n",
    "        \"\"\"\n",
    "        self.w = None\n",
    "        self.b = 0\n",
    "        self.llambda = llambda\n",
    "        self.n_epochs = n_epochs\n",
    "        self.lr = lr\n",
    "        self.history = []\n",
    "        self.batch_size = batch_size\n",
    "        \n",
    "    @staticmethod\n",
    "    def sigmoid(pred):\n",
    "        return 1.0 / (1 + np.exp(-pred))\n",
    "    \n",
    "    def calculate_loss(self, y_pred, batch_X, batch_y):\n",
    "        loss = -batch_y * np.log(y_pred) - (1 - batch_y) * np.log(1 - y_pred)\n",
    "        return loss.sum() / batch_X.shape[0] + (self.llambda/2) * self.w.T.dot(self.w)\n",
    "        \n",
    "    def fit(self, X, y):\n",
    "        np.random.seed(42)\n",
    "        self.w = np.random.randn(X.shape[1])\n",
    "        self.b = 0\n",
    "        \n",
    "        for epoch in range(self.n_epochs):\n",
    "            \n",
    "            # random permutation over indices of dataset\n",
    "            batch_indices = np.random.permutation(len(y))\n",
    "            \n",
    "            for j in range(0, len(y), self.batch_size):\n",
    "                batch_idx = batch_indices[j:j+self.batch_size]\n",
    "                batch_X = X[batch_idx]\n",
    "                batch_y = y[batch_idx]\n",
    "                \n",
    "                y_pred = self.predict_proba(batch_X)\n",
    "            \n",
    "                # forward pass\n",
    "                # <TODO> [1 point] calculate batch loss\n",
    "                loss = self.calculate_loss(y_pred, batch_X, batch_y)\n",
    "                dz = y_pred - batch_y\n",
    "                \n",
    "                # backward pass\n",
    "                # <TODO> [2 points] calculate batch gradients \n",
    "                grad_w = (1 / batch_X.shape[1]) * batch_X.T.dot(dz.T) + self.llambda * self.w\n",
    "                grad_b = (1 / batch_X.shape[1]) * np.sum(dz)\n",
    "\n",
    "                # SGD optimization step\n",
    "                # <TODO> [1 point]\n",
    "                self.w -= self.lr * grad_w\n",
    "                self.b -= self.lr * grad_b\n",
    "\n",
    "                self.history.append(loss)\n",
    "        \n",
    "        return self \n",
    "    \n",
    "    def predict_proba(self, X):\n",
    "        # <TODO> [1 point] calculate p(y=1 | x)\n",
    "        pred = X.dot(self.w) + self.b\n",
    "        return self.sigmoid(pred)\n",
    "    \n",
    "    def predict(self, X):\n",
    "        return (self.predict_proba(X) > 0.5).astype(np.int)\n",
    "    \n",
    "    \n",
    "model = LogRegNumpy(llambda=3, lr=0.01, batch_size=128, n_epochs=100)\n",
    "model.fit(X_train_bin, y_train_bin)\n",
    "print('auc', metrics.roc_auc_score(y_test_bin, model.predict_proba(X_test_bin)))\n",
    "\n",
    "plt.plot(np.arange(len(model.history)), model.history)\n",
    "plt.xlabel('iters')\n",
    "plt.ylabel('train loss');"
   ]
  },
  {
   "cell_type": "markdown",
   "metadata": {},
   "source": [
    "# Multinomial Logistic Regression using pytorch"
   ]
  },
  {
   "cell_type": "code",
   "execution_count": 4,
   "metadata": {},
   "outputs": [],
   "source": [
    "import torch\n",
    "import torch.nn as nn\n",
    "import torch.optim as optim\n",
    "import torch.nn.functional as F\n",
    "from torch.utils.data import DataLoader, TensorDataset\n",
    "from tqdm import tqdm_notebook as tqdm\n",
    "from sklearn.model_selection import train_test_split"
   ]
  },
  {
   "cell_type": "markdown",
   "metadata": {},
   "source": [
    "###  [1 point] implement linear model $Z = XW + b$"
   ]
  },
  {
   "cell_type": "code",
   "execution_count": 21,
   "metadata": {},
   "outputs": [],
   "source": [
    "class LogRegNN(nn.Module):\n",
    "    \n",
    "    def __init__(self, n_features, n_classes):\n",
    "        super(LogRegNN, self).__init__()\n",
    "        \n",
    "        # create tensor of weights and tensor of biases\n",
    "        # initialize tensors from N(0,1) \n",
    "        # W has shape (n_features, n_classes)\n",
    "        # b has shape (n_classes,)\n",
    "        self.W = nn.Parameter(torch.randn(n_features, n_classes))\n",
    "        self.b = nn.Parameter(torch.randn(n_classes))\n",
    "        \n",
    "    def forward(self, x):\n",
    "        \"\"\"\n",
    "        In this method we implement connections between neural network weights\n",
    "        x: batch feature matrix\n",
    "        returns: probability logits\n",
    "        \"\"\"\n",
    "        # <TODO> implement linear model \n",
    "        result = x @ self.W + self.b\n",
    "        return result"
   ]
  },
  {
   "cell_type": "code",
   "execution_count": 22,
   "metadata": {},
   "outputs": [],
   "source": [
    "def train_batch(model, batch_x, batch_y):\n",
    "    # set NN model in training mode\n",
    "    model.train()\n",
    "    \n",
    "    # zero gradients\n",
    "    optimizer.zero_grad()\n",
    "    # forward pass\n",
    "    pred = model(batch_x)\n",
    "    # cross-entropy loss\n",
    "    loss = criterion(pred, batch_y)\n",
    "    # calculate gradients\n",
    "    loss.backward()\n",
    "    # make optimization step\n",
    "    optimizer.step()\n",
    "    \n",
    "    # return batch loss\n",
    "    return loss.data.detach().item()\n",
    "\n",
    "def eval_batch(model, batch_x, batch_y):\n",
    "    # set NN model in evaluation mode\n",
    "    model.eval()\n",
    "    \n",
    "    with torch.no_grad():\n",
    "        # forward pass\n",
    "        pred = model(batch_x)\n",
    "        # cross-entropy loss\n",
    "        loss = criterion(pred, batch_y)\n",
    "\n",
    "    # return batch loss\n",
    "    return loss.data.item()"
   ]
  },
  {
   "cell_type": "markdown",
   "metadata": {},
   "source": [
    "### [2 points] implement early stopping using early_stopping_patience"
   ]
  },
  {
   "cell_type": "code",
   "execution_count": 26,
   "metadata": {},
   "outputs": [],
   "source": [
    "from functools import reduce\n",
    "\n",
    "def train(model, train_loader, valid_loader, n_epochs, early_stopping_patience=5):\n",
    "    \"\"\"\n",
    "    early_stopping_patience - number of consecutive epochs of growing validation loss to wait\n",
    "    \"\"\"\n",
    "    history = {'train': [], 'valid': []}\n",
    "\n",
    "    # <TODO> implement early stopping using early_stopping_patience\n",
    "    \n",
    "    for epoch in range(n_epochs):\n",
    "        epoch_train_loss = 0\n",
    "        \n",
    "        # iterate over batches\n",
    "        for batch_x, batch_y in tqdm(train_loader, desc=f'epoch:{epoch}', leave=True):\n",
    "\n",
    "            loss = train_batch(model, batch_x, batch_y)\n",
    "            epoch_train_loss += loss\n",
    "\n",
    "        # average loss for epoch\n",
    "        epoch_train_loss /= len(train_loader)\n",
    "        history['train'].append(epoch_train_loss)\n",
    "        \n",
    "        epoch_valid_loss = 0\n",
    "        for batch_x, batch_y in valid_loader:\n",
    "            loss = eval_batch(model, batch_x, batch_y)\n",
    "            epoch_valid_loss += loss\n",
    "            \n",
    "        epoch_valid_loss /= len(valid_loader)\n",
    "        print(f'train loss: {epoch_train_loss:.3f} valid loss:{epoch_valid_loss:.3f}')\n",
    "        history['valid'].append(epoch_valid_loss)\n",
    "        \n",
    "        # <TODO> implement early stopping using early_stopping_patience\n",
    "        if len(history['valid']) > early_stopping_patience:\n",
    "            continue\n",
    "            \n",
    "        if reduce(lambda x, y: x < y, history['valid'][-early_stopping_patience:]):\n",
    "            return history \n",
    "\n",
    "    return history "
   ]
  },
  {
   "cell_type": "markdown",
   "metadata": {},
   "source": [
    "### predict hard labels [1 point]"
   ]
  },
  {
   "cell_type": "code",
   "execution_count": 27,
   "metadata": {},
   "outputs": [],
   "source": [
    "def predict(model, test_loader):\n",
    "    \n",
    "    model.eval()\n",
    "    \n",
    "    result = []\n",
    "    with torch.no_grad():\n",
    "        for batch_x in test_loader:\n",
    "            # <TODO> predict hard labels\n",
    "            pred = model.forward(batch_x)\n",
    "            result.append(pred)\n",
    "    return np.concatenate(result)"
   ]
  },
  {
   "cell_type": "markdown",
   "metadata": {},
   "source": [
    "DataLoader implements iteration over batches and shuffling\n",
    "\n",
    "L2 regularization coef is embedded into SGD.weight_decay: \n",
    "\n",
    "1. $w^{(t-1)} \\leftarrow w^{(t-2)} - \\alpha \\lambda w^{(t-2)} $  \n",
    "1. $w^{(t)} \\leftarrow w^{(t-1)} - \\alpha \\nabla_{w} L(w^{(t-1)}) $\n",
    "\n",
    "here   \n",
    "$\\alpha$ - learning rate  \n",
    "$\\lambda$ - weight-decay = L2 regularization coef"
   ]
  },
  {
   "cell_type": "code",
   "execution_count": 30,
   "metadata": {},
   "outputs": [
    {
     "data": {
      "application/vnd.jupyter.widget-view+json": {
       "model_id": "92bdc152578546d1b28b0966e1c6b88c",
       "version_major": 2,
       "version_minor": 0
      },
      "text/plain": [
       "HBox(children=(IntProgress(value=0, description='epoch:0', max=36, style=ProgressStyle(description_width='init…"
      ]
     },
     "metadata": {},
     "output_type": "display_data"
    },
    {
     "name": "stdout",
     "output_type": "stream",
     "text": [
      "\n",
      "train loss: 3.748 valid loss:3.721\n"
     ]
    }
   ],
   "source": [
    "X_train2, X_valid2, y_train2, y_valid2 = train_test_split(X_train, y_train, stratify=y_train,\n",
    "                                                      shuffle=True, test_size=0.2, random_state=42)\n",
    "\n",
    "batch_size = 256\n",
    "\n",
    "\n",
    "train_loader = DataLoader(TensorDataset(torch.tensor(X_train2.todense()).float(), torch.tensor(y_train2).long()), \n",
    "                          batch_size=batch_size, shuffle=True)\n",
    "valid_loader = DataLoader(TensorDataset(torch.tensor(X_valid2.todense()).float(), torch.tensor(y_valid2).long()), \n",
    "                          batch_size=batch_size)\n",
    "test_loader = DataLoader(torch.tensor(X_test.todense()).float(), \n",
    "                          batch_size=batch_size)\n",
    "\n",
    "model = LogRegNN(X_train.shape[1], 20)\n",
    "\n",
    "criterion = nn.CrossEntropyLoss()\n",
    "# L2 regularization is embeded in \n",
    "optimizer = optim.SGD(model.parameters(), lr=0.01, weight_decay=0.0001)\n",
    "\n",
    "history = train(model, train_loader, valid_loader, 100, 2)"
   ]
  },
  {
   "cell_type": "code",
   "execution_count": 31,
   "metadata": {},
   "outputs": [
    {
     "data": {
      "text/plain": [
       "<matplotlib.legend.Legend at 0x7f7778ba6978>"
      ]
     },
     "execution_count": 31,
     "metadata": {},
     "output_type": "execute_result"
    },
    {
     "data": {
      "image/png": "[encoded data removed]",
      "text/plain": [
       "<Figure size 432x288 with 1 Axes>"
      ]
     },
     "metadata": {
      "needs_background": "light"
     },
     "output_type": "display_data"
    }
   ],
   "source": [
    "plt.plot(np.arange(len(history['train'])), history['train'], label='train')\n",
    "plt.plot(np.arange(len(history['valid'])), history['valid'], label='valid')\n",
    "plt.xlabel('epochs')\n",
    "plt.ylabel('loss')\n",
    "plt.legend()"
   ]
  },
  {
   "cell_type": "code",
   "execution_count": 9,
   "metadata": {},
   "outputs": [
    {
     "name": "stderr",
     "output_type": "stream",
     "text": [
      "/Users/denaas/opt/anaconda3/lib/python3.7/site-packages/ipykernel_launcher.py:84: UserWarning: Implicit dimension choice for softmax has been deprecated. Change the call to include dim=X as an argument.\n"
     ]
    },
    {
     "data": {
      "text/plain": [
       "0.7947424322889007"
      ]
     },
     "execution_count": 9,
     "metadata": {},
     "output_type": "execute_result"
    }
   ],
   "source": [
    "y_pred = predict(model, test_loader)\n",
    "metrics.accuracy_score(y_test, y_pred)"
   ]
  },
  {
   "cell_type": "markdown",
   "metadata": {},
   "source": [
    "### What is the cross-entropy loss of uniformly random guessing classifier for this task? [0.5 point]"
   ]
  },
  {
   "cell_type": "code",
   "execution_count": null,
   "metadata": {},
   "outputs": [],
   "source": []
  },
  {
   "cell_type": "markdown",
   "metadata": {},
   "source": [
    "### What is the accuracy of constant prediction classifier for this task? [0.5 point]"
   ]
  },
  {
   "cell_type": "code",
   "execution_count": null,
   "metadata": {},
   "outputs": [],
   "source": []
  }
 ],
 "metadata": {
  "kernelspec": {
   "display_name": "Python 3",
   "language": "python",
   "name": "python3"
  },
  "language_info": {
   "codemirror_mode": {
    "name": "ipython",
    "version": 3
   },
   "file_extension": ".py",
   "mimetype": "text/x-python",
   "name": "python",
   "nbconvert_exporter": "python",
   "pygments_lexer": "ipython3",
   "version": "3.6.8"
  }
 },
 "nbformat": 4,
 "nbformat_minor": 2
}
